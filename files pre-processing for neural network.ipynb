{
 "cells": [
  {
   "cell_type": "markdown",
   "metadata": {},
   "source": [
    "Before feeding a neural network, we need to divide images into training and testing sets, delete corrupted files, create new directories, and moving sets to them.\n",
    "\n",
    "Here I am presenting some of these operations"
   ]
  },
  {
   "cell_type": "code",
   "execution_count": 1,
   "metadata": {},
   "outputs": [],
   "source": [
    "import os\n",
    "import shutil\n",
    "from sklearn.model_selection import train_test_split"
   ]
  },
  {
   "cell_type": "markdown",
   "metadata": {},
   "source": [
    "### Create multiple sub-directories for training and testing datasets"
   ]
  },
  {
   "cell_type": "code",
   "execution_count": 18,
   "metadata": {},
   "outputs": [],
   "source": [
    "# This function create subdirectories for training and validation data\n",
    "def create_sub_directories(path):\n",
    "    # path is the complete path of sub-directories\n",
    "    # first split the path at / \n",
    "    dir_path = [i+'/' for i in path.split(\"/\") if i != '']\n",
    "    # assign variable to current working directory\n",
    "    d = ''\n",
    "    \n",
    "    # loop in directory path to create a sub-directory in each iteration\n",
    "    for i in dir_path:\n",
    "        d = d + i\n",
    "        # create a directory if not exist\n",
    "        if not os.path.exists(d):\n",
    "            os.mkdir(d)\n",
    "        # else print a warning message\n",
    "        else: print('Directoy', i, 'is already exist')\n",
    "            \n",
    "\n",
    "create_sub_directories('cats-v-dogs/validation/dogs')"
   ]
  },
  {
   "cell_type": "markdown",
   "metadata": {},
   "source": [
    "### Delete corrupted images"
   ]
  },
  {
   "cell_type": "code",
   "execution_count": 77,
   "metadata": {},
   "outputs": [],
   "source": [
    "# the path of whole images\n",
    "Source = 'C:/Users/rodan/Desktop/Python/walk-or-run/input/'\n",
    "\n",
    "def chk_corrupted(path):\n",
    "    for file in os.listdir(path):\n",
    "        if os.path.getsize(path + file) == 0:\n",
    "            os.remove(path + file)\n",
    "            \n",
    "chk_corrupted(Source)"
   ]
  },
  {
   "cell_type": "markdown",
   "metadata": {},
   "source": [
    "### Split dataset into training and testing datasets"
   ]
  },
  {
   "cell_type": "raw",
   "metadata": {},
   "source": [
    "First define global variable for images source, training path, test path, and split size"
   ]
  },
  {
   "cell_type": "code",
   "execution_count": 11,
   "metadata": {},
   "outputs": [],
   "source": [
    "Source = 'images/'\n",
    "training_path = 'input/train/'\n",
    "testing_path = 'input/test/'\n",
    "split_size = 0.9"
   ]
  },
  {
   "cell_type": "code",
   "execution_count": 13,
   "metadata": {},
   "outputs": [],
   "source": [
    "def split_data(Source, training_path, testing_path, split_size):\n",
    "    # Dividing dataset into two sets of data, trainig & testing\n",
    "    train, validation = train_test_split(os.listdir(Source), train_size = split_size, shuffle= True)\n",
    "    \n",
    "    for file in train:\n",
    "        shutil.move (Source +file, training_path)\n",
    "    for file in validation:\n",
    "        shutil.move (Source +file, testing_path)\n",
    "        \n",
    "split_data(Source, training_path, testing_path, split_size)"
   ]
  },
  {
   "cell_type": "markdown",
   "metadata": {},
   "source": [
    "### Change the name of files"
   ]
  },
  {
   "cell_type": "markdown",
   "metadata": {},
   "source": [
    "If for some reasons we need to change the image names to somethig meaningful, the function below is helpful"
   ]
  },
  {
   "cell_type": "code",
   "execution_count": 15,
   "metadata": {},
   "outputs": [],
   "source": [
    "def change_name(path, name):\n",
    "    i = 0\n",
    "    # os.listdir() list out all the content of a directory\n",
    "    for filename in os.listdir(path):\n",
    "        new_name = name + str(i) + '.png'\n",
    "        src = path + filename\n",
    "        dst = path + '/' + new_name\n",
    "        \n",
    "        # rename the files\n",
    "        os.rename(src, dst)\n",
    "        i += 1\n",
    "\n",
    "change_name('images/', 'walk')"
   ]
  }
 ],
 "metadata": {
  "kernelspec": {
   "display_name": "Python 3",
   "language": "python",
   "name": "python3"
  },
  "language_info": {
   "codemirror_mode": {
    "name": "ipython",
    "version": 3
   },
   "file_extension": ".py",
   "mimetype": "text/x-python",
   "name": "python",
   "nbconvert_exporter": "python",
   "pygments_lexer": "ipython3",
   "version": "3.6.9"
  }
 },
 "nbformat": 4,
 "nbformat_minor": 2
}
